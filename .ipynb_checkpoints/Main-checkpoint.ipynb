{
 "cells": [
  {
   "cell_type": "code",
   "execution_count": 1,
   "id": "7e204c1a-468e-4cd0-8163-55e50cb7a47c",
   "metadata": {},
   "outputs": [
    {
     "name": "stdout",
     "output_type": "stream",
     "text": [
      "Helo\n"
     ]
    }
   ],
   "source": [
    "print(\"Helo\")"
   ]
  },
  {
   "cell_type": "code",
   "execution_count": 2,
   "id": "fcd63db6-f5ab-4805-abf9-58f089641211",
   "metadata": {},
   "outputs": [],
   "source": [
    "!pip freeze > requirements.txt"
   ]
  },
  {
   "cell_type": "code",
   "execution_count": 13,
   "id": "532f49b2-b5d9-4063-961b-debd29e46cad",
   "metadata": {},
   "outputs": [
    {
     "ename": "ModuleNotFoundError",
     "evalue": "No module named 'ace_tools'",
     "output_type": "error",
     "traceback": [
      "\u001b[1;31m---------------------------------------------------------------------------\u001b[0m",
      "\u001b[1;31mModuleNotFoundError\u001b[0m                       Traceback (most recent call last)",
      "Cell \u001b[1;32mIn[13], line 2\u001b[0m\n\u001b[0;32m      1\u001b[0m \u001b[38;5;28;01mimport\u001b[39;00m \u001b[38;5;21;01mpandas\u001b[39;00m \u001b[38;5;28;01mas\u001b[39;00m \u001b[38;5;21;01mpd\u001b[39;00m\n\u001b[1;32m----> 2\u001b[0m \u001b[38;5;28;01mimport\u001b[39;00m \u001b[38;5;21;01mace_tools\u001b[39;00m \u001b[38;5;28;01mas\u001b[39;00m \u001b[38;5;21;01mtools\u001b[39;00m \n\u001b[0;32m      3\u001b[0m \u001b[38;5;66;03m# Define the new file path for coordtemp0.dump\u001b[39;00m\n\u001b[0;32m      4\u001b[0m new_file_path \u001b[38;5;241m=\u001b[39m \u001b[38;5;124m\"\u001b[39m\u001b[38;5;124mcoordtemp0.dump\u001b[39m\u001b[38;5;124m\"\u001b[39m\n",
      "\u001b[1;31mModuleNotFoundError\u001b[0m: No module named 'ace_tools'"
     ]
    }
   ],
   "source": [
    "import pandas as pd\n",
    "import ace_tools as tools \n",
    "# Define the new file path for coordtemp0.dump\n",
    "new_file_path = \"coordtemp0.dump\"\n",
    "\n",
    "# Read the full file as text\n",
    "try:\n",
    "    with open(new_file_path, \"r\") as file:\n",
    "        lines = file.readlines()\n",
    "\n",
    "    # Extract relevant sections\n",
    "    data_start = False\n",
    "    columns = []\n",
    "    atom_data = []\n",
    "\n",
    "    for line in lines:\n",
    "        line = line.strip()\n",
    "\n",
    "        # Detect the section where atomic data starts\n",
    "        if line.startswith(\"ITEM: ATOMS\"):\n",
    "            columns = line.split()[2:]  # Extract column names\n",
    "            data_start = True\n",
    "            continue\n",
    "\n",
    "        if data_start:\n",
    "            values = line.split()\n",
    "            atom_data.append(values)\n",
    "\n",
    "    # Convert to DataFrame\n",
    "    df_new = pd.DataFrame(atom_data, columns=columns)\n",
    "\n",
    "    # Convert numeric columns to appropriate types\n",
    "    for col in df_new.columns:\n",
    "        try:\n",
    "            df_new[col] = pd.to_numeric(df_new[col])\n",
    "        except ValueError:\n",
    "            pass  # Skip non-numeric columns if any\n",
    "\n",
    "    # Display the DataFrame for user inspection\n",
    "    tools.display_dataframe_to_user(name=\"LAMMPS Atom Data (coordtemp0.dump)\", dataframe=df_new)\n",
    "\n",
    "except FileNotFoundError:\n",
    "    print(\"Error: The file 'coordtemp0.dump' was not found. Please upload the file.\")\n"
   ]
  },
  {
   "cell_type": "code",
   "execution_count": null,
   "id": "cfa21620-022f-4ae9-b0f9-0e1ddaa3bb72",
   "metadata": {},
   "outputs": [],
   "source": []
  }
 ],
 "metadata": {
  "kernelspec": {
   "display_name": "Python 3 (ipykernel)",
   "language": "python",
   "name": "python3"
  },
  "language_info": {
   "codemirror_mode": {
    "name": "ipython",
    "version": 3
   },
   "file_extension": ".py",
   "mimetype": "text/x-python",
   "name": "python",
   "nbconvert_exporter": "python",
   "pygments_lexer": "ipython3",
   "version": "3.9.21"
  }
 },
 "nbformat": 4,
 "nbformat_minor": 5
}
