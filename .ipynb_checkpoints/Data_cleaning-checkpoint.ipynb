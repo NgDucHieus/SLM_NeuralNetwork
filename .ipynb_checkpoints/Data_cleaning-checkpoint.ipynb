{
 "cells": [
  {
   "cell_type": "code",
   "execution_count": 1,
   "id": "407e4af7-de14-4557-93e2-e51f275204f9",
   "metadata": {},
   "outputs": [],
   "source": [
    "import os\n",
    "import numpy as np\n",
    "import pandas as pd\n",
    "from decimal import Decimal\n"
   ]
  },
  {
   "cell_type": "code",
   "execution_count": 2,
   "id": "85b2e986-b258-4b45-bc6a-3abdd9be920f",
   "metadata": {},
   "outputs": [
    {
     "ename": "FileNotFoundError",
     "evalue": "[WinError 3] The system cannot find the path specified: 'data\\\\LIGGGHTS\\\\LIGGGHTS\\\\relax_simulation_Al'",
     "output_type": "error",
     "traceback": [
      "\u001b[1;31m---------------------------------------------------------------------------\u001b[0m",
      "\u001b[1;31mFileNotFoundError\u001b[0m                         Traceback (most recent call last)",
      "Cell \u001b[1;32mIn[2], line 6\u001b[0m\n\u001b[0;32m      2\u001b[0m \u001b[38;5;28;01mimport\u001b[39;00m \u001b[38;5;21;01mpandas\u001b[39;00m \u001b[38;5;28;01mas\u001b[39;00m \u001b[38;5;21;01mpd\u001b[39;00m\n\u001b[0;32m      4\u001b[0m base_path \u001b[38;5;241m=\u001b[39m \u001b[38;5;124mr\u001b[39m\u001b[38;5;124m\"\u001b[39m\u001b[38;5;124mdata\u001b[39m\u001b[38;5;124m\\\u001b[39m\u001b[38;5;124mLIGGGHTS\u001b[39m\u001b[38;5;124m\\\u001b[39m\u001b[38;5;124mLIGGGHTS\u001b[39m\u001b[38;5;124m\\\u001b[39m\u001b[38;5;124mrelax_simulation_Al\u001b[39m\u001b[38;5;124m\"\u001b[39m\n\u001b[1;32m----> 6\u001b[0m folder_names \u001b[38;5;241m=\u001b[39m [name \u001b[38;5;28;01mfor\u001b[39;00m name \u001b[38;5;129;01min\u001b[39;00m \u001b[43mos\u001b[49m\u001b[38;5;241;43m.\u001b[39;49m\u001b[43mlistdir\u001b[49m\u001b[43m(\u001b[49m\u001b[43mbase_path\u001b[49m\u001b[43m)\u001b[49m \u001b[38;5;28;01mif\u001b[39;00m os\u001b[38;5;241m.\u001b[39mpath\u001b[38;5;241m.\u001b[39misdir(os\u001b[38;5;241m.\u001b[39mpath\u001b[38;5;241m.\u001b[39mjoin(base_path, name))]\n\u001b[0;32m      8\u001b[0m file_data \u001b[38;5;241m=\u001b[39m []\n\u001b[0;32m     10\u001b[0m \u001b[38;5;28;01mfor\u001b[39;00m folder \u001b[38;5;129;01min\u001b[39;00m folder_names:\n",
      "\u001b[1;31mFileNotFoundError\u001b[0m: [WinError 3] The system cannot find the path specified: 'data\\\\LIGGGHTS\\\\LIGGGHTS\\\\relax_simulation_Al'"
     ]
    }
   ],
   "source": [
    "import os\n",
    "import pandas as pd\n",
    "\n",
    "base_path = r\"data\\LIGGGHTS\\LIGGGHTS\\relax_simulation_Al\"\n",
    "\n",
    "folder_names = [name for name in os.listdir(base_path) if os.path.isdir(os.path.join(base_path, name))]\n",
    "\n",
    "file_data = []\n",
    "\n",
    "for folder in folder_names:\n",
    "    folder_path = os.path.join(base_path, folder)\n",
    "    \n",
    "    dump_files = [f for f in os.listdir(folder_path) if f.startswith(\"coord\") and f.endswith(\".dump\")]\n",
    "    input_files = [f for f in os.listdir(folder_path) if f.startswith(\"in.\")]\n",
    "\n",
    "    for file in dump_files:\n",
    "        file_data.append([folder, file, \"dump\"])\n",
    "\n",
    "    for file in input_files:\n",
    "        file_data.append([folder, file, \"input\"])\n",
    "\n",
    "df_files = pd.DataFrame(file_data, columns=[\"Folder\", \"File\", \"Type\"])\n",
    "\n",
    "df_files\n"
   ]
  },
  {
   "cell_type": "code",
   "execution_count": null,
   "id": "eb370806-44ba-49d8-a000-a8eacce4c96c",
   "metadata": {},
   "outputs": [],
   "source": [
    "base_path = r\"C:\\Users\\MAY02\\Desktop\\SLM_NeuralNetwork\\Relax_Al_helix_1_1\"\n",
    "dump_files = sorted([f for f in os.listdir(base_path) if f.startswith(\"coord\") and f.endswith(\".dump\")])\n",
    "\n",
    "# Danh sách để lưu dữ liệu từ nhiều file\n",
    "data_list = []\n",
    "\n",
    "for dump_file in dump_files:\n",
    "    file_path = os.path.join(base_path, dump_file)\n",
    "\n",
    "    with open(file_path, \"r\") as file:\n",
    "        lines = file.readlines()\n",
    "\n",
    "    timestep = None\n",
    "    reading_atoms = False\n",
    "    atom_data = []\n",
    "\n",
    "    for i, line in enumerate(lines):\n",
    "        if \"ITEM: TIMESTEP\" in line:\n",
    "            reading_atoms = False  # Dừng đọc dữ liệu hạt\n",
    "            timestep = int(lines[i + 1].strip())  # Lấy timestep từ dòng tiếp theo\n",
    "        elif \"ITEM: ATOMS\" in line:\n",
    "            reading_atoms = True  # Bắt đầu đọc dữ liệu hạt\n",
    "            headers = line.strip().split()[2:]  # Lấy tiêu đề cột (bỏ \"ITEM: ATOMS\")\n",
    "        elif reading_atoms:\n",
    "            values = line.strip().split()\n",
    "            if len(values) == len(headers):  # Đảm bảo số cột khớp với tiêu đề\n",
    "                atom_id = int(values[0])  # ID hạt\n",
    "                atom_type = int(values[1])  # Loại hạt\n",
    "                x, y, z = map(Decimal, values[2:5])  # Tọa độ chính xác cao\n",
    "                temp = Decimal(values[5])  # Nhiệt độ chính xác cao\n",
    "\n",
    "                atom_data.append([timestep, atom_id, atom_type, x, y, z, temp])\n",
    "\n",
    "    # Chuyển danh sách thành DataFrame\n",
    "    df_atoms = pd.DataFrame(atom_data, columns=[\"Timestep\", \"Atom_ID\", \"Type\", \"X\", \"Y\", \"Z\", \"Temperature\"])\n",
    "    data_list.append(df_atoms)\n",
    "\n",
    "# Gộp toàn bộ dữ liệu từ các file\n",
    "df_particles = pd.concat(data_list, ignore_index=True)"
   ]
  },
  {
   "cell_type": "code",
   "execution_count": null,
   "id": "d2793d21-e74d-4905-9e75-78bdfbcd7df5",
   "metadata": {},
   "outputs": [],
   "source": [
    "df_particles.sort_values(by=\"Timestep\", inplace=True)\n",
    "df_particles\n"
   ]
  },
  {
   "cell_type": "code",
   "execution_count": null,
   "id": "8a4f2b14-1145-4fa8-992c-955b776d6782",
   "metadata": {},
   "outputs": [],
   "source": [
    "timestep_interval = 100000  # Số bước thời gian giữa mỗi lần chạy\n",
    "laser_power = 1000  # Công suất laser (nhiệt độ)\n",
    "omega = np.pi / 0.01  # Tần số quét laser\n",
    "num_paths = 3  # Số đường quét\n",
    "num_points_per_path = 20  # Số điểm trên mỗi đường quét\n",
    "\n",
    "# Danh sách để lưu dữ liệu vị trí laser\n",
    "laser_positions = []\n",
    "laser_positions.append([100000, 0, 0.0105, -0.01, 0.01, 0])\n",
    "\n",
    "# Tạo điểm nhiệt ban đầu tại timestep = 200000\n",
    "laser_positions.append([200000, 0, 0.0105, -0.01, 0.01, laser_power])\n",
    "\n",
    "# Bắt đầu quét laser\n",
    "timestep = 200000  # Bắt đầu quét laser sau khi đặt nguồn nhiệt ban đầu\n",
    "\n",
    "for i in range(1, num_paths + 1):\n",
    "    for k in range(1, num_points_per_path + 1):\n",
    "        timestep += timestep_interval\n",
    "        y = 0.001 * k - 0.01\n",
    "        x = 0.008 * np.sin(omega * y) + 0.0105 + 0.028 * (i - 1) + 0.0007 * k\n",
    "        z = 0.01  # Laser luôn ở cùng độ cao\n",
    "        region_id = int(f\"{i}{k}\")  # Tạo ID vùng từ i và k\n",
    "        laser_positions.append([timestep, region_id, x, y, z, laser_power])\n",
    "        \n",
    "    # Quét theo chiều ngược lại (myloop2)\n",
    "    for j in range(1, num_points_per_path + 1):\n",
    "        timestep += timestep_interval\n",
    "        y = (-1) * 0.001 * j + 0.01\n",
    "        x = (-1) * 0.008 * np.sin(omega * y) + 0.0105 + 0.014 + (i - 1) * 0.028 + 0.0007 * j\n",
    "        z = 0.01  # Laser luôn ở cùng độ cao\n",
    "        region_id = int(f\"{i}{j+300}\")\n",
    "        laser_positions.append([timestep, region_id, x, y, z, laser_power])\n"
   ]
  },
  {
   "cell_type": "code",
   "execution_count": 3,
   "id": "c18dbce5-ad55-4672-8bb6-f68ff70a9ff6",
   "metadata": {},
   "outputs": [
    {
     "ename": "NameError",
     "evalue": "name 'laser_positions' is not defined",
     "output_type": "error",
     "traceback": [
      "\u001b[1;31m---------------------------------------------------------------------------\u001b[0m",
      "\u001b[1;31mNameError\u001b[0m                                 Traceback (most recent call last)",
      "Cell \u001b[1;32mIn[3], line 1\u001b[0m\n\u001b[1;32m----> 1\u001b[0m df_laser_positions \u001b[38;5;241m=\u001b[39m pd\u001b[38;5;241m.\u001b[39mDataFrame(\u001b[43mlaser_positions\u001b[49m, columns\u001b[38;5;241m=\u001b[39m[\u001b[38;5;124m\"\u001b[39m\u001b[38;5;124mTimestep\u001b[39m\u001b[38;5;124m\"\u001b[39m, \u001b[38;5;124m\"\u001b[39m\u001b[38;5;124mRegion_ID\u001b[39m\u001b[38;5;124m\"\u001b[39m, \u001b[38;5;124m\"\u001b[39m\u001b[38;5;124mX\u001b[39m\u001b[38;5;124m\"\u001b[39m, \u001b[38;5;124m\"\u001b[39m\u001b[38;5;124mY\u001b[39m\u001b[38;5;124m\"\u001b[39m, \u001b[38;5;124m\"\u001b[39m\u001b[38;5;124mZ\u001b[39m\u001b[38;5;124m\"\u001b[39m, \u001b[38;5;124m\"\u001b[39m\u001b[38;5;124mLaser_Power\u001b[39m\u001b[38;5;124m\"\u001b[39m])\n\u001b[0;32m      2\u001b[0m df_laser_positions\u001b[38;5;241m.\u001b[39msort_values(by\u001b[38;5;241m=\u001b[39m\u001b[38;5;124m\"\u001b[39m\u001b[38;5;124mTimestep\u001b[39m\u001b[38;5;124m\"\u001b[39m, inplace\u001b[38;5;241m=\u001b[39m\u001b[38;5;28;01mTrue\u001b[39;00m)\n\u001b[0;32m      3\u001b[0m df_laser_positions\n",
      "\u001b[1;31mNameError\u001b[0m: name 'laser_positions' is not defined"
     ]
    }
   ],
   "source": [
    "df_laser_positions = pd.DataFrame(laser_positions, columns=[\"Timestep\", \"Region_ID\", \"X\", \"Y\", \"Z\", \"Laser_Power\"])\n",
    "df_laser_positions.sort_values(by=\"Timestep\", inplace=True)\n",
    "df_laser_positions\n"
   ]
  },
  {
   "cell_type": "code",
   "execution_count": 4,
   "id": "d3b2ad16-672a-46e5-9be6-9966b2119c44",
   "metadata": {},
   "outputs": [
    {
     "ename": "NameError",
     "evalue": "name 'df_particles' is not defined",
     "output_type": "error",
     "traceback": [
      "\u001b[1;31m---------------------------------------------------------------------------\u001b[0m",
      "\u001b[1;31mNameError\u001b[0m                                 Traceback (most recent call last)",
      "Cell \u001b[1;32mIn[4], line 3\u001b[0m\n\u001b[0;32m      1\u001b[0m \u001b[38;5;28;01mimport\u001b[39;00m \u001b[38;5;21;01mpandas\u001b[39;00m \u001b[38;5;28;01mas\u001b[39;00m \u001b[38;5;21;01mpd\u001b[39;00m\n\u001b[0;32m      2\u001b[0m \u001b[38;5;28;01mimport\u001b[39;00m \u001b[38;5;21;01mmatplotlib\u001b[39;00m\u001b[38;5;21;01m.\u001b[39;00m\u001b[38;5;21;01mpyplot\u001b[39;00m \u001b[38;5;28;01mas\u001b[39;00m \u001b[38;5;21;01mplt\u001b[39;00m\n\u001b[1;32m----> 3\u001b[0m df_particles \u001b[38;5;241m=\u001b[39m \u001b[43mdf_particles\u001b[49m\u001b[38;5;241m.\u001b[39mastype(\u001b[38;5;28mfloat\u001b[39m)\n\u001b[0;32m      7\u001b[0m plt\u001b[38;5;241m.\u001b[39mfigure(figsize\u001b[38;5;241m=\u001b[39m(\u001b[38;5;241m8\u001b[39m, \u001b[38;5;241m6\u001b[39m))\n\u001b[0;32m      8\u001b[0m sc \u001b[38;5;241m=\u001b[39m plt\u001b[38;5;241m.\u001b[39mscatter(df_particles[\u001b[38;5;124m\"\u001b[39m\u001b[38;5;124mX\u001b[39m\u001b[38;5;124m\"\u001b[39m], df_particles[\u001b[38;5;124m\"\u001b[39m\u001b[38;5;124mY\u001b[39m\u001b[38;5;124m\"\u001b[39m], c\u001b[38;5;241m=\u001b[39mdf_particles[\u001b[38;5;124m\"\u001b[39m\u001b[38;5;124mTemperature\u001b[39m\u001b[38;5;124m\"\u001b[39m], cmap\u001b[38;5;241m=\u001b[39m\u001b[38;5;124m\"\u001b[39m\u001b[38;5;124mhot\u001b[39m\u001b[38;5;124m\"\u001b[39m, marker\u001b[38;5;241m=\u001b[39m\u001b[38;5;124m\"\u001b[39m\u001b[38;5;124mo\u001b[39m\u001b[38;5;124m\"\u001b[39m)\n",
      "\u001b[1;31mNameError\u001b[0m: name 'df_particles' is not defined"
     ]
    }
   ],
   "source": [
    "import pandas as pd\n",
    "import matplotlib.pyplot as plt\n",
    "df_particles = df_particles.astype(float)\n",
    "\n",
    "\n",
    "\n",
    "plt.figure(figsize=(8, 6))\n",
    "sc = plt.scatter(df_particles[\"X\"], df_particles[\"Y\"], c=df_particles[\"Temperature\"], cmap=\"hot\", marker=\"o\")\n",
    "\n",
    "# Nhãn và tiêu đề\n",
    "plt.xlabel(\"X Position\")\n",
    "plt.ylabel(\"Y Position\")\n",
    "plt.title(\"Vị trí các hạt trong không gian 2D\")\n",
    "\n",
    "# Thanh màu hiển thị nhiệt độ\n",
    "cbar = plt.colorbar(sc)\n",
    "cbar.set_label(\"Temperature\")\n",
    "\n",
    "# Hiển thị biểu đồ\n",
    "plt.show()\n"
   ]
  },
  {
   "cell_type": "code",
   "execution_count": null,
   "id": "9e946456-b5dd-4a5c-b1f0-a694009c458d",
   "metadata": {},
   "outputs": [],
   "source": [
    "import numpy as np\n",
    "\n",
    "# Giả sử chúng ta có một ngưỡng khoảng cách tối đa để xác định neighbor (tương ứng với neighbor bin 0.002)\n",
    "neighbor_threshold = 0.002 \n",
    "\n",
    "# Chọn hạt có Atom_ID = 71\n",
    "target_particle = df_particles[df_particles[\"Atom_ID\"] == 71]\n",
    "if not target_particle.empty:\n",
    "    x_target, y_target, z_target = target_particle.iloc[0][[\"X\", \"Y\", \"Z\"]]\n",
    "\n",
    "    # Find neighbors based on 3D distance\n",
    "    neighbors = df_particles[(df_particles[\"Atom_ID\"] != 71) &\n",
    "                   (np.sqrt((df_particles[\"X\"] - x_target) ** 2 +\n",
    "                            (df_particles[\"Y\"] - y_target) ** 2 )\n",
    "                         < neighbor_threshold)]\n",
    "\n",
    "unique_neighbors = neighbors.drop_duplicates(subset=[\"Atom_ID\"])\n",
    "unique_neighbors\n"
   ]
  },
  {
   "cell_type": "code",
   "execution_count": 5,
   "id": "33870711-cdc5-4760-b460-487bbb0d5cbe",
   "metadata": {},
   "outputs": [
    {
     "ename": "NameError",
     "evalue": "name 'unique_neighbors' is not defined",
     "output_type": "error",
     "traceback": [
      "\u001b[1;31m---------------------------------------------------------------------------\u001b[0m",
      "\u001b[1;31mNameError\u001b[0m                                 Traceback (most recent call last)",
      "Cell \u001b[1;32mIn[5], line 1\u001b[0m\n\u001b[1;32m----> 1\u001b[0m \u001b[38;5;28mlen\u001b[39m(\u001b[43munique_neighbors\u001b[49m)\n",
      "\u001b[1;31mNameError\u001b[0m: name 'unique_neighbors' is not defined"
     ]
    }
   ],
   "source": [
    "len(unique_neighbors)"
   ]
  },
  {
   "cell_type": "code",
   "execution_count": 6,
   "id": "4924e617-1331-4642-9d69-dd3f95e2f4f9",
   "metadata": {},
   "outputs": [
    {
     "ename": "SyntaxError",
     "evalue": "invalid syntax (917009926.py, line 26)",
     "output_type": "error",
     "traceback": [
      "\u001b[1;36m  Cell \u001b[1;32mIn[6], line 26\u001b[1;36m\u001b[0m\n\u001b[1;33m    laser_x, laser_y, laser_z, laser_power = laser_at_timestep.iloc[0][[\"Laser_X\", \"Laser_Y\", \"Laser_Z\", \"Laser_Power\"]]`\u001b[0m\n\u001b[1;37m                                                                                                                        ^\u001b[0m\n\u001b[1;31mSyntaxError\u001b[0m\u001b[1;31m:\u001b[0m invalid syntax\n"
     ]
    }
   ],
   "source": [
    "from scipy.spatial import cKDTree\n",
    "\n",
    "# Chuyển đổi dữ liệu về kiểu float để xử lý toán học\n",
    "df_particles[[\"X\", \"Y\", \"Z\", \"Temperature\"]] = df_particles[[\"X\", \"Y\", \"Z\", \"Temperature\"]].astype(float)\n",
    "\n",
    "# Tạo DataFrame chứa dữ liệu laser\n",
    "df_laser = pd.DataFrame(laser_positions, columns=[\"Timestep\", \"Region_ID\", \"Laser_X\", \"Laser_Y\", \"Laser_Z\", \"Laser_Power\"])\n",
    "\n",
    "# Tạo cây tìm kiếm nhanh các hạt bằng cKDTree để xác định neighbor nhanh hơn\n",
    "particle_tree = cKDTree(df_particles[[\"X\", \"Y\"]].values)\n",
    "\n",
    "# Danh sách lưu dataset mới\n",
    "dataset_combined = []\n",
    "\n",
    "# Lặp qua từng timestep\n",
    "for timestep in sorted(df_particles[\"Timestep\"].unique()):\n",
    "    # Lọc các hạt tại timestep hiện tại\n",
    "    particles_at_timestep = df_particles[df_particles[\"Timestep\"] == timestep].copy()\n",
    "    \n",
    "    # Lọc thông tin laser tại timestep hiện tại\n",
    "    laser_at_timestep = df_laser[df_laser[\"Timestep\"] == timestep]\n",
    "    \n",
    "    if laser_at_timestep.empty:\n",
    "        continue  # Nếu không có dữ liệu laser tại timestep này, bỏ qua\n",
    "\n",
    "    laser_x, laser_y, laser_z, laser_power = laser_at_timestep.iloc[0][[\"Laser_X\", \"Laser_Y\", \"Laser_Z\", \"Laser_Power\"]]`\n",
    "\n",
    "    # Tìm neighbor cho từng hạt\n",
    "    for index, particle in particles_at_timestep.iterrows():\n",
    "        atom_id, x, y, z, temperature = particle[[\"Atom_ID\", \"X\", \"Y\", \"Z\", \"Temperature\"]]\n",
    "\n",
    "        # Tìm neighbor trong khoảng threshold 0.002\n",
    "        neighbor_indices = particle_tree.query_ball_point([x, y], neighbor_threshold)\n",
    "        neighbor_temps = df_particles.iloc[neighbor_indices][\"Temperature\"].values if neighbor_indices else []\n",
    "\n",
    "        # Tính toán các giá trị nhiệt độ\n",
    "        max_neighbor_temp = max(neighbor_temps) if len(neighbor_temps) > 0 else None\n",
    "        min_neighbor_temp = min(neighbor_temps) if len(neighbor_temps) > 0 else None\n",
    "        avg_neighbor_temp = np.mean(neighbor_temps) if len(neighbor_temps) > 0 else None\n",
    "\n",
    "\n",
    "        # Tìm hạt gần nhất\n",
    "        if neighbor_indices:\n",
    "            distances = np.linalg.norm(df_particles.iloc[neighbor_indices][[\"X\", \"Y\"]].values - np.array([x, y]), axis=1)\n",
    "            closest_neighbor_idx = neighbor_indices[np.argmin(distances)]\n",
    "            closest_neighbor_temp = df_particles.iloc[closest_neighbor_idx][\"Temperature\"]\n",
    "        else:\n",
    "            closest_neighbor_temp = None\n",
    "\n",
    "        # Tìm nhiệt độ tại timestep trước\n",
    "        prev_timestep_temp = df_particles[(df_particles[\"Atom_ID\"] == atom_id) & (df_particles[\"Timestep\"] == timestep - timestep_interval)][\"Temperature\"]\n",
    "        prev_temp = prev_timestep_temp.values[0] if not prev_timestep_temp.empty else None\n",
    "\n",
    "        # Khoảng cách đến vị trí laser\n",
    "        distance_to_laser = np.sqrt((x - laser_x) ** 2 + (y - laser_y) ** 2)\n",
    "\n",
    "        # Thêm vào dataset mới\n",
    "        dataset_combined.append([\n",
    "            timestep, atom_id, x, y, z, temperature, laser_x, laser_y, laser_z, laser_power,\n",
    "            max_neighbor_temp, min_neighbor_temp, avg_neighbor_temp, closest_neighbor_temp,\n",
    "            prev_temp, distance_to_laser\n",
    "        ])\n",
    "\n",
    "df_combined = pd.DataFrame(dataset_combined, columns=[\n",
    "    \"Timestep\", \"Atom_ID\", \"X\", \"Y\", \"Z\", \"Temperature\", \"Laser_X\", \"Laser_Y\", \"Laser_Z\", \"Laser_Power\",\n",
    "    \"Max_Neighbor_Temp\", \"Min_Neighbor_Temp\", \"Avg_Neighbor_Temp\", \"Closest_Neighbor_Temp\",\n",
    "    \"Prev_Timestep_Temp\", \"Distance_To_Laser\"\n",
    "])\n",
    "\n",
    "df_combined"
   ]
  },
  {
   "cell_type": "code",
   "execution_count": 7,
   "id": "71fe7bdb-37ba-4995-8fe2-827aa326e7a2",
   "metadata": {},
   "outputs": [
    {
     "ename": "NameError",
     "evalue": "name 'df_particles' is not defined",
     "output_type": "error",
     "traceback": [
      "\u001b[1;31m---------------------------------------------------------------------------\u001b[0m",
      "\u001b[1;31mNameError\u001b[0m                                 Traceback (most recent call last)",
      "Cell \u001b[1;32mIn[7], line 1\u001b[0m\n\u001b[1;32m----> 1\u001b[0m \u001b[43mdf_particles\u001b[49m[\u001b[38;5;124m\"\u001b[39m\u001b[38;5;124mTimestep\u001b[39m\u001b[38;5;124m\"\u001b[39m]\u001b[38;5;241m.\u001b[39munique()\n",
      "\u001b[1;31mNameError\u001b[0m: name 'df_particles' is not defined"
     ]
    }
   ],
   "source": [
    "df_particles[\"Timestep\"].unique()"
   ]
  },
  {
   "cell_type": "code",
   "execution_count": null,
   "id": "87b18737-b745-48b9-9e8d-6c5975b5f988",
   "metadata": {},
   "outputs": [],
   "source": []
  }
 ],
 "metadata": {
  "kernelspec": {
   "display_name": "Python 3 (ipykernel)",
   "language": "python",
   "name": "python3"
  },
  "language_info": {
   "codemirror_mode": {
    "name": "ipython",
    "version": 3
   },
   "file_extension": ".py",
   "mimetype": "text/x-python",
   "name": "python",
   "nbconvert_exporter": "python",
   "pygments_lexer": "ipython3",
   "version": "3.9.21"
  }
 },
 "nbformat": 4,
 "nbformat_minor": 5
}
