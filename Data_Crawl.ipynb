{
 "cells": [
  {
   "cell_type": "code",
   "execution_count": 6,
   "id": "fe593e2f",
   "metadata": {},
   "outputs": [
    {
     "name": "stdout",
     "output_type": "stream",
     "text": [
      "Mean Temperature per Timestep:\n",
      "     Timestep   f_Temp[0]\n",
      "0           0  300.000000\n",
      "1      100000  307.056901\n",
      "2      200000  309.320285\n",
      "3      300000  312.427062\n",
      "4      400000  314.843465\n",
      "..        ...         ...\n",
      "236  23600000  532.048343\n",
      "237  23700000  532.026153\n",
      "238  23800000  532.117151\n",
      "239  23900000  532.756323\n",
      "240  24000000  533.991417\n",
      "\n",
      "[241 rows x 2 columns]\n",
      "Extracted data saved to highest_temp_per_timestep.csv\n"
     ]
    },
    {
     "name": "stderr",
     "output_type": "stream",
     "text": [
      "/tmp/ipykernel_254028/2645165030.py:23: SettingWithCopyWarning: \n",
      "A value is trying to be set on a copy of a slice from a DataFrame.\n",
      "Try using .loc[row_indexer,col_indexer] = value instead\n",
      "\n",
      "See the caveats in the documentation: https://pandas.pydata.org/pandas-docs/stable/user_guide/indexing.html#returning-a-view-versus-a-copy\n",
      "  result_df['time'] = result_df['Timestep'] * timestep_size\n"
     ]
    },
    {
     "data": {
      "text/plain": [
       "(        Timestep         x         y         z  f_Temp[0]      time   laser_x  \\\n",
       " 0              0  0.001028 -0.014000  0.001000      300.0  0.000000  0.005000   \n",
       " 7232      100000  0.005076 -0.004228  0.011925     1000.0  0.000013  0.005859   \n",
       " 562208    200000  0.007357 -0.006100  0.011198     1000.0  0.000025  0.007687   \n",
       " 821790    300000  0.008853 -0.005058  0.010375     1000.0  0.000038  0.010279   \n",
       " 877185    400000  0.010769 -0.007778  0.012027     1000.0  0.000050  0.013319   \n",
       " ...          ...       ...       ...       ...        ...       ...       ...   \n",
       " 769370  23600000  0.083921 -0.002117  0.010328     1000.0  0.002950  0.085700   \n",
       " 774342  23700000  0.088398 -0.003462  0.010315     1000.0  0.002963  0.087887   \n",
       " 779700  23800000  0.087427 -0.007519  0.011667     1000.0  0.002975  0.090714   \n",
       " 784701  23900000  0.089516 -0.008346  0.011560     1000.0  0.002988  0.093834   \n",
       " 794702  24000000  0.091673 -0.007142  0.010553     1000.0  0.003000  0.096861   \n",
       " \n",
       "              laser_y  \n",
       " 0       9.184851e-19  \n",
       " 7232   -2.747044e-03  \n",
       " 562208 -5.112291e-03  \n",
       " 821790 -6.767007e-03  \n",
       " 877185 -7.481212e-03  \n",
       " ...              ...  \n",
       " 769370 -3.826425e-03  \n",
       " 774342 -5.923145e-03  \n",
       " 779700 -7.196638e-03  \n",
       " 784701 -7.469908e-03  \n",
       " 794702 -6.704975e-03  \n",
       " \n",
       " [241 rows x 8 columns],\n",
       "      Timestep   f_Temp[0]\n",
       " 0           0  300.000000\n",
       " 1      100000  307.056901\n",
       " 2      200000  309.320285\n",
       " 3      300000  312.427062\n",
       " 4      400000  314.843465\n",
       " ..        ...         ...\n",
       " 236  23600000  532.048343\n",
       " 237  23700000  532.026153\n",
       " 238  23800000  532.117151\n",
       " 239  23900000  532.756323\n",
       " 240  24000000  533.991417\n",
       " \n",
       " [241 rows x 2 columns])"
      ]
     },
     "execution_count": 6,
     "metadata": {},
     "output_type": "execute_result"
    }
   ],
   "source": [
    "import pandas as pd\n",
    "import numpy as np\n",
    "\n",
    "def extract_highest_temp(csv_file):\n",
    "    # Read the CSV file\n",
    "    df = pd.read_csv(csv_file)\n",
    "    \n",
    "    # Group by Timestep and find the row with the highest temperature for each timestep\n",
    "    highest_temp_df = df.loc[df.groupby('Timestep')['f_Temp[0]'].idxmax()]\n",
    "    \n",
    "    # Select relevant columns\n",
    "    result_df = highest_temp_df[['Timestep', 'x', 'y', 'z', 'f_Temp[0]']]\n",
    "    \n",
    "    # Calculate the mean temperature for each timestep\n",
    "    mean_temp_per_timestep = df.groupby('Timestep')['f_Temp[0]'].mean().reset_index()\n",
    "    print(\"Mean Temperature per Timestep:\")\n",
    "    print(mean_temp_per_timestep)\n",
    "    \n",
    "    # Compute laser coordinates for each timestep\n",
    "    timestep_size = 1.25e-10  # Timestep in seconds\n",
    "    omega = 30000  # Laser oscillation frequency (rad/s)\n",
    "    \n",
    "    result_df['time'] = result_df['Timestep'] * timestep_size\n",
    "    result_df['laser_x'] = 27 * result_df['time'] + 0.0075 * np.cos(omega * result_df['time'] + np.pi) + 0.0125\n",
    "    result_df['laser_y'] = 0.0075 * np.sin(omega * result_df['time'] + np.pi)\n",
    "    \n",
    "    # Save to a new CSV file\n",
    "    output_file = \"highest_temp_per_timestep.csv\"\n",
    "    result_df.to_csv(output_file, index=False)\n",
    "    \n",
    "    print(f\"Extracted data saved to {output_file}\")\n",
    "    return result_df, mean_temp_per_timestep\n",
    "\n",
    "\n",
    "# Example usage:\n",
    "extract_highest_temp(\"liggghts_data.csv\")\n"
   ]
  }
 ],
 "metadata": {
  "kernelspec": {
   "display_name": "Python (your_env_name)",
   "language": "python",
   "name": "slm"
  },
  "language_info": {
   "codemirror_mode": {
    "name": "ipython",
    "version": 3
   },
   "file_extension": ".py",
   "mimetype": "text/x-python",
   "name": "python",
   "nbconvert_exporter": "python",
   "pygments_lexer": "ipython3",
   "version": "3.9.21"
  }
 },
 "nbformat": 4,
 "nbformat_minor": 5
}
