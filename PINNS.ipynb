{
 "cells": [
  {
   "cell_type": "code",
   "execution_count": 1,
   "id": "04f88a63",
   "metadata": {},
   "outputs": [
    {
     "data": {
      "text/plain": [
       "(0.00506248710617635, -0.0004216525620487625)"
      ]
     },
     "execution_count": 1,
     "metadata": {},
     "output_type": "execute_result"
    }
   ],
   "source": [
    "# Re-import necessary libraries after execution state reset\n",
    "import numpy as np\n",
    "\n",
    "# Define simulation parameters\n",
    "timestep_value = 15000  # Given TIMESTEP\n",
    "timestep_size = 1.25e-10  # Timestep in seconds\n",
    "omega = 30000  # Laser oscillation frequency (rad/s)\n",
    "\n",
    "# Compute actual time at TIMESTEP 15000\n",
    "time_at_15000 = timestep_value * timestep_size\n",
    "\n",
    "# Compute laser coordinates at this time\n",
    "a_at_15000 = 27 * time_at_15000 + 0.0075 * np.cos(omega * time_at_15000 + np.pi) + 0.0125\n",
    "b_at_15000 = 0.0075 * np.sin(omega * time_at_15000 + np.pi)\n",
    "\n",
    "# Display results\n",
    "a_at_15000, b_at_15000\n"
   ]
  }
 ],
 "metadata": {
  "kernelspec": {
   "display_name": "Python (your_env_name)",
   "language": "python",
   "name": "slm"
  },
  "language_info": {
   "codemirror_mode": {
    "name": "ipython",
    "version": 3
   },
   "file_extension": ".py",
   "mimetype": "text/x-python",
   "name": "python",
   "nbconvert_exporter": "python",
   "pygments_lexer": "ipython3",
   "version": "3.9.21"
  }
 },
 "nbformat": 4,
 "nbformat_minor": 5
}
